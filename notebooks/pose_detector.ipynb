{
 "cells": [
  {
   "cell_type": "code",
   "execution_count": null,
   "id": "110ed855",
   "metadata": {},
   "outputs": [],
   "source": [
    "import cv2\n",
    "import numpy as np\n",
    "import mediapipe as mp\n",
    "from mediapipe import solutions\n",
    "from mediapipe.tasks import python\n",
    "from mediapipe.tasks.python import vision\n",
    "from mediapipe.framework.formats import landmark_pb2"
   ]
  },
  {
   "cell_type": "code",
   "execution_count": null,
   "id": "793f104d",
   "metadata": {},
   "outputs": [],
   "source": [
    "def draw_landmarks_on_image(rgb_image, detection_result):\n",
    "  pose_landmarks_list = detection_result.pose_landmarks\n",
    "  annotated_image = np.copy(rgb_image)\n",
    "\n",
    "  # Loop through the detected poses to visualize.\n",
    "  for idx in range(len(pose_landmarks_list)):\n",
    "    pose_landmarks = pose_landmarks_list[idx]\n",
    "\n",
    "    # Draw the pose landmarks.\n",
    "    pose_landmarks_proto = landmark_pb2.NormalizedLandmarkList()\n",
    "    pose_landmarks_proto.landmark.extend([\n",
    "      landmark_pb2.NormalizedLandmark(x=landmark.x, y=landmark.y, z=landmark.z) for landmark in pose_landmarks\n",
    "    ])\n",
    "    solutions.drawing_utils.draw_landmarks(\n",
    "      annotated_image,\n",
    "      pose_landmarks_proto,\n",
    "      solutions.pose.POSE_CONNECTIONS,\n",
    "      solutions.drawing_styles.get_default_pose_landmarks_style())\n",
    "  return annotated_image"
   ]
  },
  {
   "cell_type": "code",
   "execution_count": null,
   "id": "12795a9d",
   "metadata": {},
   "outputs": [],
   "source": [
    "#Creating the Landmark object\n",
    "base_options = python.BaseOptions(model_asset_path='../models/pose_landmarker_heavy.task')\n",
    "VisionRunningMode = mp.tasks.vision.RunningMode\n",
    "options = vision.PoseLandmarkerOptions(\n",
    "    base_options=base_options,\n",
    "    output_segmentation_masks=True,\n",
    "    running_mode=VisionRunningMode.VIDEO)\n",
    "detector = vision.PoseLandmarker.create_from_options(options)"
   ]
  },
  {
   "cell_type": "code",
   "execution_count": null,
   "id": "13682116",
   "metadata": {},
   "outputs": [],
   "source": [
    "VIDEO_PATH    = \"../data/raw/video0.mp4\"\n",
    "OUTPUT_PATH   = \"../data/processed/video0_annotated.mp4\"\n",
    "\n",
    "cap = cv2.VideoCapture(VIDEO_PATH)\n",
    "if not cap.isOpened():\n",
    "    raise RuntimeError(f\"Could not open video file: {VIDEO_PATH}\")\n",
    "\n",
    "fps    = cap.get(cv2.CAP_PROP_FPS) or 30.0\n",
    "width  = int(cap.get(cv2.CAP_PROP_FRAME_WIDTH))\n",
    "height = int(cap.get(cv2.CAP_PROP_FRAME_HEIGHT))\n",
    "\n",
    "fourcc = cv2.VideoWriter_fourcc(*'mp4v')              # or 'avc1', 'XVID', etc.\n",
    "out    = cv2.VideoWriter(OUTPUT_PATH, fourcc, fps, (width, height))\n",
    "\n",
    "\n",
    "frame_idx = 0\n",
    "while True:\n",
    "    success, frame_bgr = cap.read()\n",
    "    if not success:\n",
    "        break\n",
    "\n",
    "    frame_rgb  = cv2.cvtColor(frame_bgr, cv2.COLOR_BGR2RGB)\n",
    "    mp_image   = mp.Image(image_format=mp.ImageFormat.SRGB, data=frame_rgb)\n",
    "    timestamp_ms = int(frame_idx * (1000.0 / fps))\n",
    "    result     = detector.detect_for_video(mp_image, timestamp_ms)\n",
    "\n",
    "    annotated_rgb = draw_landmarks_on_image(frame_rgb, result)\n",
    "    annotated_bgr = cv2.cvtColor(annotated_rgb, cv2.COLOR_RGB2BGR)\n",
    "\n",
    "\n",
    "    out.write(annotated_bgr)\n",
    "    frame_idx += 1\n",
    "\n",
    "cap.release()\n",
    "out.release()\n",
    "cv2.destroyAllWindows()\n",
    "\n",
    "print(f\"Saved annotated video to {OUTPUT_PATH}\")"
   ]
  }
 ],
 "metadata": {
  "kernelspec": {
   "display_name": ".venv",
   "language": "python",
   "name": "python3"
  },
  "language_info": {
   "codemirror_mode": {
    "name": "ipython",
    "version": 3
   },
   "file_extension": ".py",
   "mimetype": "text/x-python",
   "name": "python",
   "nbconvert_exporter": "python",
   "pygments_lexer": "ipython3",
   "version": "3.11.0"
  }
 },
 "nbformat": 4,
 "nbformat_minor": 5
}
